{
  "cells": [
    {
      "cell_type": "code",
      "execution_count": 1,
      "metadata": {},
      "outputs": [],
      "source": [
        "from data.get_data import *"
      ]
    },
    {
      "cell_type": "code",
      "execution_count": 2,
      "metadata": {},
      "outputs": [
        {
          "name": "stderr",
          "output_type": "stream",
          "text": [
            "[*********************100%%**********************]  1 of 1 completed\n"
          ]
        }
      ],
      "source": [
        "data = get_crypto('BTC', dt.datetime(2023,1,1))"
      ]
    },
    {
      "cell_type": "code",
      "execution_count": 3,
      "metadata": {},
      "outputs": [
        {
          "data": {
            "text/html": [
              "<div>\n",
              "<style scoped>\n",
              "    .dataframe tbody tr th:only-of-type {\n",
              "        vertical-align: middle;\n",
              "    }\n",
              "\n",
              "    .dataframe tbody tr th {\n",
              "        vertical-align: top;\n",
              "    }\n",
              "\n",
              "    .dataframe thead th {\n",
              "        text-align: right;\n",
              "    }\n",
              "</style>\n",
              "<table border=\"1\" class=\"dataframe\">\n",
              "  <thead>\n",
              "    <tr style=\"text-align: right;\">\n",
              "      <th></th>\n",
              "      <th>Open</th>\n",
              "      <th>High</th>\n",
              "      <th>Low</th>\n",
              "      <th>Close</th>\n",
              "      <th>Adj Close</th>\n",
              "      <th>Volume</th>\n",
              "    </tr>\n",
              "    <tr>\n",
              "      <th>Date</th>\n",
              "      <th></th>\n",
              "      <th></th>\n",
              "      <th></th>\n",
              "      <th></th>\n",
              "      <th></th>\n",
              "      <th></th>\n",
              "    </tr>\n",
              "  </thead>\n",
              "  <tbody>\n",
              "    <tr>\n",
              "      <th>2023-01-03</th>\n",
              "      <td>90.591003</td>\n",
              "      <td>90.618797</td>\n",
              "      <td>90.570000</td>\n",
              "      <td>90.618797</td>\n",
              "      <td>87.998291</td>\n",
              "      <td>1715</td>\n",
              "    </tr>\n",
              "    <tr>\n",
              "      <th>2023-01-04</th>\n",
              "      <td>90.879204</td>\n",
              "      <td>90.879204</td>\n",
              "      <td>90.879204</td>\n",
              "      <td>90.879204</td>\n",
              "      <td>88.251175</td>\n",
              "      <td>103</td>\n",
              "    </tr>\n",
              "    <tr>\n",
              "      <th>2023-01-05</th>\n",
              "      <td>90.751404</td>\n",
              "      <td>90.751404</td>\n",
              "      <td>90.751404</td>\n",
              "      <td>90.751404</td>\n",
              "      <td>88.127068</td>\n",
              "      <td>11</td>\n",
              "    </tr>\n",
              "    <tr>\n",
              "      <th>2023-01-06</th>\n",
              "      <td>90.919998</td>\n",
              "      <td>91.408302</td>\n",
              "      <td>90.919998</td>\n",
              "      <td>91.408302</td>\n",
              "      <td>88.764969</td>\n",
              "      <td>11299</td>\n",
              "    </tr>\n",
              "    <tr>\n",
              "      <th>2023-01-09</th>\n",
              "      <td>91.429001</td>\n",
              "      <td>91.599998</td>\n",
              "      <td>91.429001</td>\n",
              "      <td>91.599998</td>\n",
              "      <td>88.951126</td>\n",
              "      <td>3790</td>\n",
              "    </tr>\n",
              "    <tr>\n",
              "      <th>...</th>\n",
              "      <td>...</td>\n",
              "      <td>...</td>\n",
              "      <td>...</td>\n",
              "      <td>...</td>\n",
              "      <td>...</td>\n",
              "      <td>...</td>\n",
              "    </tr>\n",
              "    <tr>\n",
              "      <th>2024-04-19</th>\n",
              "      <td>90.521599</td>\n",
              "      <td>90.521599</td>\n",
              "      <td>90.521599</td>\n",
              "      <td>90.521599</td>\n",
              "      <td>90.521599</td>\n",
              "      <td>31</td>\n",
              "    </tr>\n",
              "    <tr>\n",
              "      <th>2024-04-22</th>\n",
              "      <td>90.489998</td>\n",
              "      <td>90.579498</td>\n",
              "      <td>90.489998</td>\n",
              "      <td>90.579498</td>\n",
              "      <td>90.579498</td>\n",
              "      <td>821</td>\n",
              "    </tr>\n",
              "    <tr>\n",
              "      <th>2024-04-23</th>\n",
              "      <td>90.660202</td>\n",
              "      <td>90.830002</td>\n",
              "      <td>90.629997</td>\n",
              "      <td>90.713699</td>\n",
              "      <td>90.713699</td>\n",
              "      <td>5465</td>\n",
              "    </tr>\n",
              "    <tr>\n",
              "      <th>2024-04-24</th>\n",
              "      <td>90.480103</td>\n",
              "      <td>90.599197</td>\n",
              "      <td>90.480103</td>\n",
              "      <td>90.599197</td>\n",
              "      <td>90.599197</td>\n",
              "      <td>9183</td>\n",
              "    </tr>\n",
              "    <tr>\n",
              "      <th>2024-04-25</th>\n",
              "      <td>90.360001</td>\n",
              "      <td>90.375702</td>\n",
              "      <td>90.330002</td>\n",
              "      <td>90.360001</td>\n",
              "      <td>90.360001</td>\n",
              "      <td>3428</td>\n",
              "    </tr>\n",
              "  </tbody>\n",
              "</table>\n",
              "<p>330 rows × 6 columns</p>\n",
              "</div>"
            ],
            "text/plain": [
              "                 Open       High        Low      Close  Adj Close  Volume\n",
              "Date                                                                     \n",
              "2023-01-03  90.591003  90.618797  90.570000  90.618797  87.998291    1715\n",
              "2023-01-04  90.879204  90.879204  90.879204  90.879204  88.251175     103\n",
              "2023-01-05  90.751404  90.751404  90.751404  90.751404  88.127068      11\n",
              "2023-01-06  90.919998  91.408302  90.919998  91.408302  88.764969   11299\n",
              "2023-01-09  91.429001  91.599998  91.429001  91.599998  88.951126    3790\n",
              "...               ...        ...        ...        ...        ...     ...\n",
              "2024-04-19  90.521599  90.521599  90.521599  90.521599  90.521599      31\n",
              "2024-04-22  90.489998  90.579498  90.489998  90.579498  90.579498     821\n",
              "2024-04-23  90.660202  90.830002  90.629997  90.713699  90.713699    5465\n",
              "2024-04-24  90.480103  90.599197  90.480103  90.599197  90.599197    9183\n",
              "2024-04-25  90.360001  90.375702  90.330002  90.360001  90.360001    3428\n",
              "\n",
              "[330 rows x 6 columns]"
            ]
          },
          "execution_count": 3,
          "metadata": {},
          "output_type": "execute_result"
        }
      ],
      "source": [
        "data"
      ]
    },
    {
      "cell_type": "code",
      "execution_count": 4,
      "metadata": {},
      "outputs": [],
      "source": [
        "selected_columns = data[['Open', 'High', 'Low', 'Close', 'Volume']]\n"
      ]
    },
    {
      "cell_type": "code",
      "execution_count": 5,
      "metadata": {},
      "outputs": [],
      "source": [
        "import pandas as pd\n",
        "import numpy as np\n",
        "\n",
        "# Generate random integers (-1, 0, 1)\n",
        "random_pos = np.random.randint(-1, 2, size=len(data.Close))\n",
        "\n",
        "# Convert to pandas Series\n",
        "random_pos = pd.Series(random_pos)"
      ]
    },
    {
      "cell_type": "markdown",
      "metadata": {
        "id": "eaKodIBwnUZk"
      },
      "source": [
        "# Backtesting"
      ]
    },
    {
      "cell_type": "code",
      "execution_count": 6,
      "metadata": {
        "id": "-8Mf_pH0D12s"
      },
      "outputs": [
        {
          "name": "stderr",
          "output_type": "stream",
          "text": [
            "c:\\Users\\Minh Truc\\AppData\\Local\\Programs\\Python\\Python310\\lib\\site-packages\\tqdm\\auto.py:21: TqdmWarning: IProgress not found. Please update jupyter and ipywidgets. See https://ipywidgets.readthedocs.io/en/stable/user_install.html\n",
            "  from .autonotebook import tqdm as notebook_tqdm\n"
          ]
        }
      ],
      "source": [
        "from backtest.event_base import use_changes\n",
        "from backtest.vectorized import *"
      ]
    },
    {
      "cell_type": "code",
      "execution_count": 7,
      "metadata": {},
      "outputs": [],
      "source": [
        "stats, bt = use_position(selected_columns, random_pos)"
      ]
    },
    {
      "cell_type": "code",
      "execution_count": 8,
      "metadata": {},
      "outputs": [
        {
          "data": {
            "text/plain": [
              "Start                     2023-01-03 00:00:00\n",
              "End                       2024-04-25 00:00:00\n",
              "Duration                    478 days 00:00:00\n",
              "Exposure Time [%]                   66.060606\n",
              "Equity Final [$]                  9827.708473\n",
              "Equity Peak [$]                  10085.019867\n",
              "Return [%]                          -1.722915\n",
              "Buy & Hold Return [%]               -0.285588\n",
              "Return (Ann.) [%]                   -1.318379\n",
              "Volatility (Ann.) [%]                3.256321\n",
              "Sharpe Ratio                        -0.404868\n",
              "Sortino Ratio                       -0.564299\n",
              "Calmar Ratio                        -0.215385\n",
              "Max. Drawdown [%]                   -6.121039\n",
              "Avg. Drawdown [%]                   -3.200144\n",
              "Max. Drawdown Duration      454 days 00:00:00\n",
              "Avg. Drawdown Duration      230 days 00:00:00\n",
              "# Trades                                   55\n",
              "Win Rate [%]                        49.090909\n",
              "Best Trade [%]                       0.969032\n",
              "Worst Trade [%]                     -1.962403\n",
              "Avg. Trade [%]                      -0.031798\n",
              "Max. Trade Duration          14 days 00:00:00\n",
              "Avg. Trade Duration           5 days 00:00:00\n",
              "Profit Factor                        0.839602\n",
              "Expectancy [%]                       -0.03064\n",
              "SQN                                 -0.493856\n",
              "Kelly Criterion                     -0.120791\n",
              "_strategy                         PosStrategy\n",
              "_equity_curve                             ...\n",
              "_trades                       Size  EntryB...\n",
              "dtype: object"
            ]
          },
          "execution_count": 8,
          "metadata": {},
          "output_type": "execute_result"
        }
      ],
      "source": [
        "stats"
      ]
    },
    {
      "cell_type": "code",
      "execution_count": 9,
      "metadata": {},
      "outputs": [
        {
          "name": "stderr",
          "output_type": "stream",
          "text": [
            "c:\\Users\\Minh Truc\\PycharmProjects\\Sharpe\\Alpha_v2\\_backtest_source\\_plotting.py:659: UserWarning: found multiple competing values for 'toolbar.active_drag' property; using the latest value\n",
            "  fig = gridplot(\n",
            "c:\\Users\\Minh Truc\\PycharmProjects\\Sharpe\\Alpha_v2\\_backtest_source\\_plotting.py:659: UserWarning: found multiple competing values for 'toolbar.active_scroll' property; using the latest value\n",
            "  fig = gridplot(\n"
          ]
        },
        {
          "data": {
            "text/html": [
              "<div style=\"display: table;\"><div style=\"display: table-row;\"><div style=\"display: table-cell;\"><b title=\"bokeh.models.plots.GridPlot\">GridPlot</b>(</div><div style=\"display: table-cell;\">id&nbsp;=&nbsp;'p1305', <span id=\"p1334\" style=\"cursor: pointer;\">&hellip;)</span></div></div><div class=\"p1333\" style=\"display: none;\"><div style=\"display: table-cell;\"></div><div style=\"display: table-cell;\">align&nbsp;=&nbsp;'auto',</div></div><div class=\"p1333\" style=\"display: none;\"><div style=\"display: table-cell;\"></div><div style=\"display: table-cell;\">aspect_ratio&nbsp;=&nbsp;None,</div></div><div class=\"p1333\" style=\"display: none;\"><div style=\"display: table-cell;\"></div><div style=\"display: table-cell;\">children&nbsp;=&nbsp;[(figure(id='p1046', ...), 0, 0), (figure(id='p1143', ...), 1, 0), (figure(id='p1002', ...), 2, 0), (figure(id='p1198', ...), 3, 0)],</div></div><div class=\"p1333\" style=\"display: none;\"><div style=\"display: table-cell;\"></div><div style=\"display: table-cell;\">cols&nbsp;=&nbsp;None,</div></div><div class=\"p1333\" style=\"display: none;\"><div style=\"display: table-cell;\"></div><div style=\"display: table-cell;\">context_menu&nbsp;=&nbsp;None,</div></div><div class=\"p1333\" style=\"display: none;\"><div style=\"display: table-cell;\"></div><div style=\"display: table-cell;\">css_classes&nbsp;=&nbsp;[],</div></div><div class=\"p1333\" style=\"display: none;\"><div style=\"display: table-cell;\"></div><div style=\"display: table-cell;\">css_variables&nbsp;=&nbsp;{},</div></div><div class=\"p1333\" style=\"display: none;\"><div style=\"display: table-cell;\"></div><div style=\"display: table-cell;\">disabled&nbsp;=&nbsp;False,</div></div><div class=\"p1333\" style=\"display: none;\"><div style=\"display: table-cell;\"></div><div style=\"display: table-cell;\">elements&nbsp;=&nbsp;[],</div></div><div class=\"p1333\" style=\"display: none;\"><div style=\"display: table-cell;\"></div><div style=\"display: table-cell;\">flow_mode&nbsp;=&nbsp;'block',</div></div><div class=\"p1333\" style=\"display: none;\"><div style=\"display: table-cell;\"></div><div style=\"display: table-cell;\">height&nbsp;=&nbsp;None,</div></div><div class=\"p1333\" style=\"display: none;\"><div style=\"display: table-cell;\"></div><div style=\"display: table-cell;\">height_policy&nbsp;=&nbsp;'auto',</div></div><div class=\"p1333\" style=\"display: none;\"><div style=\"display: table-cell;\"></div><div style=\"display: table-cell;\">js_event_callbacks&nbsp;=&nbsp;{},</div></div><div class=\"p1333\" style=\"display: none;\"><div style=\"display: table-cell;\"></div><div style=\"display: table-cell;\">js_property_callbacks&nbsp;=&nbsp;{},</div></div><div class=\"p1333\" style=\"display: none;\"><div style=\"display: table-cell;\"></div><div style=\"display: table-cell;\">margin&nbsp;=&nbsp;None,</div></div><div class=\"p1333\" style=\"display: none;\"><div style=\"display: table-cell;\"></div><div style=\"display: table-cell;\">max_height&nbsp;=&nbsp;None,</div></div><div class=\"p1333\" style=\"display: none;\"><div style=\"display: table-cell;\"></div><div style=\"display: table-cell;\">max_width&nbsp;=&nbsp;None,</div></div><div class=\"p1333\" style=\"display: none;\"><div style=\"display: table-cell;\"></div><div style=\"display: table-cell;\">min_height&nbsp;=&nbsp;None,</div></div><div class=\"p1333\" style=\"display: none;\"><div style=\"display: table-cell;\"></div><div style=\"display: table-cell;\">min_width&nbsp;=&nbsp;None,</div></div><div class=\"p1333\" style=\"display: none;\"><div style=\"display: table-cell;\"></div><div style=\"display: table-cell;\">name&nbsp;=&nbsp;None,</div></div><div class=\"p1333\" style=\"display: none;\"><div style=\"display: table-cell;\"></div><div style=\"display: table-cell;\">resizable&nbsp;=&nbsp;False,</div></div><div class=\"p1333\" style=\"display: none;\"><div style=\"display: table-cell;\"></div><div style=\"display: table-cell;\">rows&nbsp;=&nbsp;None,</div></div><div class=\"p1333\" style=\"display: none;\"><div style=\"display: table-cell;\"></div><div style=\"display: table-cell;\">sizing_mode&nbsp;=&nbsp;'stretch_width',</div></div><div class=\"p1333\" style=\"display: none;\"><div style=\"display: table-cell;\"></div><div style=\"display: table-cell;\">spacing&nbsp;=&nbsp;0,</div></div><div class=\"p1333\" style=\"display: none;\"><div style=\"display: table-cell;\"></div><div style=\"display: table-cell;\">styles&nbsp;=&nbsp;{},</div></div><div class=\"p1333\" style=\"display: none;\"><div style=\"display: table-cell;\"></div><div style=\"display: table-cell;\">stylesheets&nbsp;=&nbsp;[],</div></div><div class=\"p1333\" style=\"display: none;\"><div style=\"display: table-cell;\"></div><div style=\"display: table-cell;\">subscribed_events&nbsp;=&nbsp;PropertyValueSet(),</div></div><div class=\"p1333\" style=\"display: none;\"><div style=\"display: table-cell;\"></div><div style=\"display: table-cell;\">syncable&nbsp;=&nbsp;True,</div></div><div class=\"p1333\" style=\"display: none;\"><div style=\"display: table-cell;\"></div><div style=\"display: table-cell;\">tags&nbsp;=&nbsp;[],</div></div><div class=\"p1333\" style=\"display: none;\"><div style=\"display: table-cell;\"></div><div style=\"display: table-cell;\">toolbar&nbsp;=&nbsp;Toolbar(id='p1304', ...),</div></div><div class=\"p1333\" style=\"display: none;\"><div style=\"display: table-cell;\"></div><div style=\"display: table-cell;\">toolbar_location&nbsp;=&nbsp;'right',</div></div><div class=\"p1333\" style=\"display: none;\"><div style=\"display: table-cell;\"></div><div style=\"display: table-cell;\">visible&nbsp;=&nbsp;True,</div></div><div class=\"p1333\" style=\"display: none;\"><div style=\"display: table-cell;\"></div><div style=\"display: table-cell;\">width&nbsp;=&nbsp;None,</div></div><div class=\"p1333\" style=\"display: none;\"><div style=\"display: table-cell;\"></div><div style=\"display: table-cell;\">width_policy&nbsp;=&nbsp;'auto')</div></div></div>\n",
              "<script>\n",
              "(function() {\n",
              "  let expanded = false;\n",
              "  const ellipsis = document.getElementById(\"p1334\");\n",
              "  ellipsis.addEventListener(\"click\", function() {\n",
              "    const rows = document.getElementsByClassName(\"p1333\");\n",
              "    for (let i = 0; i < rows.length; i++) {\n",
              "      const el = rows[i];\n",
              "      el.style.display = expanded ? \"none\" : \"table-row\";\n",
              "    }\n",
              "    ellipsis.innerHTML = expanded ? \"&hellip;)\" : \"&lsaquo;&lsaquo;&lsaquo;\";\n",
              "    expanded = !expanded;\n",
              "  });\n",
              "})();\n",
              "</script>\n"
            ],
            "text/plain": [
              "GridPlot(id='p1305', ...)"
            ]
          },
          "execution_count": 9,
          "metadata": {},
          "output_type": "execute_result"
        }
      ],
      "source": [
        "bt.plot()"
      ]
    },
    {
      "cell_type": "code",
      "execution_count": 9,
      "metadata": {},
      "outputs": [],
      "source": [
        "stats, bt = use_changes(data)"
      ]
    },
    {
      "cell_type": "code",
      "execution_count": 10,
      "metadata": {},
      "outputs": [
        {
          "data": {
            "text/plain": [
              "Start                     2023-01-03 00:00:00\n",
              "End                       2024-04-25 00:00:00\n",
              "Duration                    478 days 00:00:00\n",
              "Exposure Time [%]                   71.818182\n",
              "Equity Final [$]                 10163.326607\n",
              "Equity Peak [$]                   10347.17028\n",
              "Return [%]                           1.633266\n",
              "Buy & Hold Return [%]               -0.285588\n",
              "Return (Ann.) [%]                     1.24483\n",
              "Volatility (Ann.) [%]                  3.2009\n",
              "Sharpe Ratio                           0.3889\n",
              "Sortino Ratio                          0.6027\n",
              "Calmar Ratio                         0.594396\n",
              "Max. Drawdown [%]                   -2.094276\n",
              "Avg. Drawdown [%]                   -0.799072\n",
              "Max. Drawdown Duration      154 days 00:00:00\n",
              "Avg. Drawdown Duration       39 days 00:00:00\n",
              "# Trades                                   84\n",
              "Win Rate [%]                         34.52381\n",
              "Best Trade [%]                       1.262292\n",
              "Worst Trade [%]                     -0.687109\n",
              "Avg. Trade [%]                       0.019378\n",
              "Max. Trade Duration           8 days 00:00:00\n",
              "Avg. Trade Duration           3 days 00:00:00\n",
              "Profit Factor                        1.167933\n",
              "Expectancy [%]                       0.020084\n",
              "SQN                                  0.466834\n",
              "Kelly Criterion                      0.047721\n",
              "_strategy                     ChangesStrategy\n",
              "_equity_curve                             ...\n",
              "_trades                       Size  EntryB...\n",
              "dtype: object"
            ]
          },
          "execution_count": 10,
          "metadata": {},
          "output_type": "execute_result"
        }
      ],
      "source": [
        "stats"
      ]
    },
    {
      "cell_type": "code",
      "execution_count": 16,
      "metadata": {},
      "outputs": [
        {
          "name": "stderr",
          "output_type": "stream",
          "text": [
            "c:\\Users\\Minh Truc\\PycharmProjects\\Sharpe\\Alpha_v2\\_backtest_source\\_plotting.py:659: UserWarning: found multiple competing values for 'toolbar.active_drag' property; using the latest value\n",
            "  fig = gridplot(\n",
            "c:\\Users\\Minh Truc\\PycharmProjects\\Sharpe\\Alpha_v2\\_backtest_source\\_plotting.py:659: UserWarning: found multiple competing values for 'toolbar.active_scroll' property; using the latest value\n",
            "  fig = gridplot(\n"
          ]
        },
        {
          "data": {
            "text/html": [
              "<div style=\"display: table;\"><div style=\"display: table-row;\"><div style=\"display: table-cell;\"><b title=\"bokeh.models.plots.GridPlot\">GridPlot</b>(</div><div style=\"display: table-cell;\">id&nbsp;=&nbsp;'p1305', <span id=\"p1334\" style=\"cursor: pointer;\">&hellip;)</span></div></div><div class=\"p1333\" style=\"display: none;\"><div style=\"display: table-cell;\"></div><div style=\"display: table-cell;\">align&nbsp;=&nbsp;'auto',</div></div><div class=\"p1333\" style=\"display: none;\"><div style=\"display: table-cell;\"></div><div style=\"display: table-cell;\">aspect_ratio&nbsp;=&nbsp;None,</div></div><div class=\"p1333\" style=\"display: none;\"><div style=\"display: table-cell;\"></div><div style=\"display: table-cell;\">children&nbsp;=&nbsp;[(figure(id='p1046', ...), 0, 0), (figure(id='p1143', ...), 1, 0), (figure(id='p1002', ...), 2, 0), (figure(id='p1198', ...), 3, 0)],</div></div><div class=\"p1333\" style=\"display: none;\"><div style=\"display: table-cell;\"></div><div style=\"display: table-cell;\">cols&nbsp;=&nbsp;None,</div></div><div class=\"p1333\" style=\"display: none;\"><div style=\"display: table-cell;\"></div><div style=\"display: table-cell;\">context_menu&nbsp;=&nbsp;None,</div></div><div class=\"p1333\" style=\"display: none;\"><div style=\"display: table-cell;\"></div><div style=\"display: table-cell;\">css_classes&nbsp;=&nbsp;[],</div></div><div class=\"p1333\" style=\"display: none;\"><div style=\"display: table-cell;\"></div><div style=\"display: table-cell;\">css_variables&nbsp;=&nbsp;{},</div></div><div class=\"p1333\" style=\"display: none;\"><div style=\"display: table-cell;\"></div><div style=\"display: table-cell;\">disabled&nbsp;=&nbsp;False,</div></div><div class=\"p1333\" style=\"display: none;\"><div style=\"display: table-cell;\"></div><div style=\"display: table-cell;\">elements&nbsp;=&nbsp;[],</div></div><div class=\"p1333\" style=\"display: none;\"><div style=\"display: table-cell;\"></div><div style=\"display: table-cell;\">flow_mode&nbsp;=&nbsp;'block',</div></div><div class=\"p1333\" style=\"display: none;\"><div style=\"display: table-cell;\"></div><div style=\"display: table-cell;\">height&nbsp;=&nbsp;None,</div></div><div class=\"p1333\" style=\"display: none;\"><div style=\"display: table-cell;\"></div><div style=\"display: table-cell;\">height_policy&nbsp;=&nbsp;'auto',</div></div><div class=\"p1333\" style=\"display: none;\"><div style=\"display: table-cell;\"></div><div style=\"display: table-cell;\">js_event_callbacks&nbsp;=&nbsp;{},</div></div><div class=\"p1333\" style=\"display: none;\"><div style=\"display: table-cell;\"></div><div style=\"display: table-cell;\">js_property_callbacks&nbsp;=&nbsp;{},</div></div><div class=\"p1333\" style=\"display: none;\"><div style=\"display: table-cell;\"></div><div style=\"display: table-cell;\">margin&nbsp;=&nbsp;None,</div></div><div class=\"p1333\" style=\"display: none;\"><div style=\"display: table-cell;\"></div><div style=\"display: table-cell;\">max_height&nbsp;=&nbsp;None,</div></div><div class=\"p1333\" style=\"display: none;\"><div style=\"display: table-cell;\"></div><div style=\"display: table-cell;\">max_width&nbsp;=&nbsp;None,</div></div><div class=\"p1333\" style=\"display: none;\"><div style=\"display: table-cell;\"></div><div style=\"display: table-cell;\">min_height&nbsp;=&nbsp;None,</div></div><div class=\"p1333\" style=\"display: none;\"><div style=\"display: table-cell;\"></div><div style=\"display: table-cell;\">min_width&nbsp;=&nbsp;None,</div></div><div class=\"p1333\" style=\"display: none;\"><div style=\"display: table-cell;\"></div><div style=\"display: table-cell;\">name&nbsp;=&nbsp;None,</div></div><div class=\"p1333\" style=\"display: none;\"><div style=\"display: table-cell;\"></div><div style=\"display: table-cell;\">resizable&nbsp;=&nbsp;False,</div></div><div class=\"p1333\" style=\"display: none;\"><div style=\"display: table-cell;\"></div><div style=\"display: table-cell;\">rows&nbsp;=&nbsp;None,</div></div><div class=\"p1333\" style=\"display: none;\"><div style=\"display: table-cell;\"></div><div style=\"display: table-cell;\">sizing_mode&nbsp;=&nbsp;'stretch_width',</div></div><div class=\"p1333\" style=\"display: none;\"><div style=\"display: table-cell;\"></div><div style=\"display: table-cell;\">spacing&nbsp;=&nbsp;0,</div></div><div class=\"p1333\" style=\"display: none;\"><div style=\"display: table-cell;\"></div><div style=\"display: table-cell;\">styles&nbsp;=&nbsp;{},</div></div><div class=\"p1333\" style=\"display: none;\"><div style=\"display: table-cell;\"></div><div style=\"display: table-cell;\">stylesheets&nbsp;=&nbsp;[],</div></div><div class=\"p1333\" style=\"display: none;\"><div style=\"display: table-cell;\"></div><div style=\"display: table-cell;\">subscribed_events&nbsp;=&nbsp;PropertyValueSet(),</div></div><div class=\"p1333\" style=\"display: none;\"><div style=\"display: table-cell;\"></div><div style=\"display: table-cell;\">syncable&nbsp;=&nbsp;True,</div></div><div class=\"p1333\" style=\"display: none;\"><div style=\"display: table-cell;\"></div><div style=\"display: table-cell;\">tags&nbsp;=&nbsp;[],</div></div><div class=\"p1333\" style=\"display: none;\"><div style=\"display: table-cell;\"></div><div style=\"display: table-cell;\">toolbar&nbsp;=&nbsp;Toolbar(id='p1304', ...),</div></div><div class=\"p1333\" style=\"display: none;\"><div style=\"display: table-cell;\"></div><div style=\"display: table-cell;\">toolbar_location&nbsp;=&nbsp;'right',</div></div><div class=\"p1333\" style=\"display: none;\"><div style=\"display: table-cell;\"></div><div style=\"display: table-cell;\">visible&nbsp;=&nbsp;True,</div></div><div class=\"p1333\" style=\"display: none;\"><div style=\"display: table-cell;\"></div><div style=\"display: table-cell;\">width&nbsp;=&nbsp;None,</div></div><div class=\"p1333\" style=\"display: none;\"><div style=\"display: table-cell;\"></div><div style=\"display: table-cell;\">width_policy&nbsp;=&nbsp;'auto')</div></div></div>\n",
              "<script>\n",
              "(function() {\n",
              "  let expanded = false;\n",
              "  const ellipsis = document.getElementById(\"p1334\");\n",
              "  ellipsis.addEventListener(\"click\", function() {\n",
              "    const rows = document.getElementsByClassName(\"p1333\");\n",
              "    for (let i = 0; i < rows.length; i++) {\n",
              "      const el = rows[i];\n",
              "      el.style.display = expanded ? \"none\" : \"table-row\";\n",
              "    }\n",
              "    ellipsis.innerHTML = expanded ? \"&hellip;)\" : \"&lsaquo;&lsaquo;&lsaquo;\";\n",
              "    expanded = !expanded;\n",
              "  });\n",
              "})();\n",
              "</script>\n"
            ],
            "text/plain": [
              "GridPlot(id='p1305', ...)"
            ]
          },
          "execution_count": 16,
          "metadata": {},
          "output_type": "execute_result"
        }
      ],
      "source": [
        "bt.plot()"
      ]
    },
    {
      "cell_type": "code",
      "execution_count": 13,
      "metadata": {},
      "outputs": [],
      "source": [
        "stats, bt = use_signal(data)"
      ]
    },
    {
      "cell_type": "code",
      "execution_count": 14,
      "metadata": {},
      "outputs": [
        {
          "data": {
            "text/plain": [
              "Start                     2023-01-03 00:00:00\n",
              "End                       2024-04-25 00:00:00\n",
              "Duration                    478 days 00:00:00\n",
              "Exposure Time [%]                   38.787879\n",
              "Equity Final [$]                  9999.203979\n",
              "Equity Peak [$]                  10039.805588\n",
              "Return [%]                           -0.00796\n",
              "Buy & Hold Return [%]               -0.285588\n",
              "Return (Ann.) [%]                   -0.006079\n",
              "Volatility (Ann.) [%]                0.362107\n",
              "Sharpe Ratio                        -0.016787\n",
              "Sortino Ratio                       -0.026576\n",
              "Calmar Ratio                        -0.015031\n",
              "Max. Drawdown [%]                   -0.404406\n",
              "Avg. Drawdown [%]                   -0.143996\n",
              "Max. Drawdown Duration      252 days 00:00:00\n",
              "Avg. Drawdown Duration       68 days 00:00:00\n",
              "# Trades                                  121\n",
              "Win Rate [%]                        33.884298\n",
              "Best Trade [%]                        2.62674\n",
              "Worst Trade [%]                     -1.389267\n",
              "Avg. Trade [%]                      -0.004347\n",
              "Max. Trade Duration          65 days 00:00:00\n",
              "Avg. Trade Duration          20 days 00:00:00\n",
              "Profit Factor                        0.998892\n",
              "Expectancy [%]                      -0.000371\n",
              "SQN                                 -0.088589\n",
              "Kelly Criterion                     -0.007378\n",
              "_strategy                       ExampleSignal\n",
              "_equity_curve                             ...\n",
              "_trades                        Size  Entry...\n",
              "dtype: object"
            ]
          },
          "execution_count": 14,
          "metadata": {},
          "output_type": "execute_result"
        }
      ],
      "source": [
        "stats"
      ]
    },
    {
      "cell_type": "code",
      "execution_count": 16,
      "metadata": {},
      "outputs": [],
      "source": [
        "stats, bt = use_trailing(data)"
      ]
    },
    {
      "cell_type": "code",
      "execution_count": 17,
      "metadata": {},
      "outputs": [
        {
          "data": {
            "text/plain": [
              "Start                     2023-01-03 00:00:00\n",
              "End                       2024-04-25 00:00:00\n",
              "Duration                    478 days 00:00:00\n",
              "Exposure Time [%]                   57.272727\n",
              "Equity Final [$]                  9810.518998\n",
              "Equity Peak [$]                  10200.873032\n",
              "Return [%]                           -1.89481\n",
              "Buy & Hold Return [%]               -0.285588\n",
              "Return (Ann.) [%]                   -1.450212\n",
              "Volatility (Ann.) [%]                3.422287\n",
              "Sharpe Ratio                        -0.423755\n",
              "Sortino Ratio                       -0.622895\n",
              "Calmar Ratio                        -0.256359\n",
              "Max. Drawdown [%]                    -5.65695\n",
              "Avg. Drawdown [%]                   -1.494927\n",
              "Max. Drawdown Duration      398 days 00:00:00\n",
              "Avg. Drawdown Duration       77 days 00:00:00\n",
              "# Trades                                   16\n",
              "Win Rate [%]                            18.75\n",
              "Best Trade [%]                       3.734414\n",
              "Worst Trade [%]                     -0.889899\n",
              "Avg. Trade [%]                      -0.120366\n",
              "Max. Trade Duration          71 days 00:00:00\n",
              "Avg. Trade Duration          16 days 00:00:00\n",
              "Profit Factor                        0.753088\n",
              "Expectancy [%]                      -0.113635\n",
              "SQN                                 -0.405343\n",
              "Kelly Criterion                     -0.066333\n",
              "_strategy                    ExampleTrailling\n",
              "_equity_curve                             ...\n",
              "_trades                       Size  EntryB...\n",
              "dtype: object"
            ]
          },
          "execution_count": 17,
          "metadata": {},
          "output_type": "execute_result"
        }
      ],
      "source": [
        "stats"
      ]
    },
    {
      "cell_type": "code",
      "execution_count": null,
      "metadata": {},
      "outputs": [],
      "source": []
    }
  ],
  "metadata": {
    "colab": {
      "provenance": []
    },
    "kaggle": {
      "accelerator": "none",
      "dataSources": [
        {
          "datasetId": 3441331,
          "sourceId": 6025334,
          "sourceType": "datasetVersion"
        }
      ],
      "dockerImageVersionId": 30664,
      "isGpuEnabled": false,
      "isInternetEnabled": true,
      "language": "python",
      "sourceType": "notebook"
    },
    "kernelspec": {
      "display_name": "Python 3",
      "language": "python",
      "name": "python3"
    },
    "language_info": {
      "codemirror_mode": {
        "name": "ipython",
        "version": 3
      },
      "file_extension": ".py",
      "mimetype": "text/x-python",
      "name": "python",
      "nbconvert_exporter": "python",
      "pygments_lexer": "ipython3",
      "version": "3.10.1"
    }
  },
  "nbformat": 4,
  "nbformat_minor": 0
}
